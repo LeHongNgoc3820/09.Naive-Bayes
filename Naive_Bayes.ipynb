{
 "cells": [
  {
   "cell_type": "markdown",
   "id": "1233553b",
   "metadata": {},
   "source": [
    "# Supervised Learning - Naive Bayes\n",
    "\n",
    "### Nội dung:\n",
    "1. Giới thiệu\n",
    "2. Các ứng dụng\n",
    "3. Thuật toán\n",
    "4. Ưu/khuyết điểm\n",
    "5. Xây dựng Naive Bayes sử dụng sklearn\n",
    "\n",
    "## 1. Giới thiệu\n",
    "+ Phân loại Naive Bayesian dựa trên định lý Bayes với các giả định độc lập giữa các yếu tố dự báo.\n",
    "+ Một mô hình Naive Bayesian dễ xây dựng, không có ước lượng tham số lặp phức tạp nào khiến cho nó đặc biệt hữu ích cho các tập dữ liệu rất lớn.\n",
    "+ Mặc dù sự đơn giản của nó, trình phân loại Naive Bayesian thường rất đánh ngạc nhiên và được sử dụng rộng rãi bởi vì nó thường làm tốt hơn các phương pháp phân loại phức tạp hơn.\n",
    "+ Naive Bayes là một thuật toán thuộc nhóm Supervised Learning sử dụng rất hiệu quả cho Classification.\n",
    "+ Khá giống với Linear Regression, tuy nhiên, Naive Bayes có xu hướng đào tạo nhanh hơn. Cái giá phải trả cho hiệu quả nhanh này là mô hình Naive Bayes thường cung cấp hiệu suất tổng quát hơi kém hơn so với các phân loại tuyến tính như Logistic Regression và LinearSVC.\n",
    "+ Lí do mà các mô hình Naive Bayes rất hiệu quả là chúng học các tham số bằng cách xem xét từng đặc điểm/tính năng riêng lẻ và thu thập số liệu thống kê mỗi lớp đơn giản từ từng tính năng.\n",
    "+ Có ba loại phân phối sử dụng phổ biến của Naive Bayes là GaussianNB, BernoulliNB và MultinomialNB\n",
    "\n",
    "### GaussianNB\n",
    "+ Có thể được áp dụng cho bất kỳ dữ liệu liên tục nào\n",
    "+ GaussianNB lưu trữ giá trị trung bình và độ lệch chuẩn (standard deviation) của từng tính năng cho mỗi lớp.\n",
    "+ GaussianNB chủ yếu được sử dụng trên dữ liệu high-dimensional data\n",
    "\n",
    "### BernoulliNB \n",
    "+ Áp dụng trên dữ liệu nhị phân (mỗi thành phần là một giá trị binary bằng 0 hoặc bằng 1)\n",
    "+ Được sử dụng rộng rãi cho dữ liệu đếm thưa thớt (Sparse count data), ví dụ: văn bản\n",
    "\n",
    "### MultinomialNB\n",
    "+ Áp dụng cho dữ liệu đếm (nghĩa là mỗi đối tượng đại diện cho một số nguyên đếm của thứ gì đó, ví dụ như tần suất một từ xuất hiện trong một câu)\n",
    "+ Tính đến giá trị trung bình của từng tính năng (feature) cho mỗi lớp (class)\n",
    "+ Được sử dụng rộng rãi cho dữ liệu đếm thưa thớt (sparse count data)\n",
    "\n",
    "### So sánh\n",
    "+ BernoulliNB và MultinomialNB chủ yếu được sử dụng trong phân loại dữ liệu văn bản.\n",
    "+ MultinomialNB thường hoạt động tốt hơn BernoulliNB, đặc biệt là trên các tập dữ liệu với một số lượng tương đối lớn các tính năng nonzero (ví dụ: các tài liệu lớn)\n",
    "\n",
    "### Đặc điểm chung\n",
    "+ Với tất cả, để dự đoán, một điểm dữ liệu được so sánh với các số liệu thống kê cho mỗi lớp và lớp phù hợp nhất được dự đoán\n",
    "+ Các mô hình Naive Bayes chia sẻ nhiều điểm mạnh và điểm yếu của các mô hình tuyến tính, đào tạo và dự đoán rất nhanh, quy trình đào tạo rất dễ hiểu\n",
    "+ Các mô hình hoạt động rất tốt với dữ liệu thưa thớt nhiều chiều (high-dimensional sparse data) và tương đối mạnh mẽ với các tham số\n",
    "\n",
    "## 2. Các ứng dụng\n",
    "+ Realtime Prediction (dự đoán thời gian thực)\n",
    "+ Multiclass Prediction (dự đoán đa lớp)\n",
    "+ Text classification/Spam Filtering/Sentiment Analysis (phân loại văn bản, lọc thưc rác, phân tích trạng thái - trong phân tích truyền thông xã hội, để xác định tình cảm khách hành - tích cực và tiêu cực)\n",
    "+ Recommendation System (hệ thống đề xuất): Naive Bayes Classifier và Collaborative Filtering cùng nhau xây dựng hệ thống đề xuất sử dụng kỹ thuật Machine Learning và khai thác dữ liệu để lọc thông tin không xác định và dự đoán người dùng có muốn một tài nguyên cụ thể hay không\n",
    "\n",
    "## 3. Thuật toán\n",
    "Định lý Bayes cung cấp một cách tính xác suất như sau: P(c|x), từ P(c), P(x) và P(x|c)\n",
    "+ Phân loại Baive Bayes giả định rằng tác động của giá trị của một yếu tố dự báo - predictor - (x) trên một lớp nhất định (c) là độc lập với các giá trị của các yếu tố dự báo khác. Giả định này được gọi là lớp độc lập có điều kiện.\n",
    "+ **Công thức:**\n",
    "\n",
    "$$\\textrm{P(c|x)} = \\frac{\\textrm{P(x|c)*P(c)}}{\\textrm{P(x)}}$$\n",
    "\n",
    "**Trong đó:**\n",
    "+ P(c|x): Xác suất xảy ra (posterior probability) của một sự kiện ngẫu nhiên c khi biết sự kiện liên quan x đã xảy ra.\n",
    "+ P(x|c): Xác suất xảy ra x khi biết c xảy ra (likelihood)\n",
    "+ P(c): Xác suất xảy ra của riêng c mà không quan tâm tới x (class prior probability)\n",
    "+ P(x): Xác suất xảy ra của riêng x mà không quan tâm tới c (predictor prior probabilitiy)\n",
    "\n",
    "## 4. Ưu/khuyết điểm\n",
    "### Ưu điểm\n",
    "+ Tính toán nhanh chóng\n",
    "+ Đơn giản, dễ triển khai\n",
    "+ Hoạt động tốt với bộ dữ liệu nhỏ\n",
    "+ Hoạt động tốt với high-dimensionals\n",
    "+ Hoạt động tốt ngay cả khi Naive Assumption không được đáp ứng hoàn hảo. Trong nhiều trường hợp, giá trị xấp xỉ (approximation) là đủ để xây dựng một trình phân loại tốt\n",
    "\n",
    "### Khuyết điểm & cách giải quyết\n",
    "+ Có thể có các tính năng tương quan => để giải quyết: loại bỏ các tính năng tương quan, vì khi các tính năng tương quan cao được chọn hai lần trong mô hình có thể dẫn đến việc vượt quá tầm quan trọng.\n",
    "+ Có thể các tính năng liên tục (continuous features) không có phân bố chuẩn (normal distribution) xuất hiện. Để giải quyết ta nên sử dụng phép biến đổi hoặc các phương thức khác nhau để chuyển đổi nó thành phân phối chuẩn.\n",
    "+ Nếu một biến phân loại có một danh mục trong tập dữ liệu thử nghiệm mà không được quan sát thấy trong tập dữ liệu huấn luyện, thì mô hình sẽ gán một xác suất bằng không. Nó sẽ không thể dự đoán được. Điều này thường gọi là \"Tần số không\" => Để giải quyết, ta có thể sử dụng kỹ thuật làm mịn. Một trong những kỹ thuật làm mịn đơn giản nhất được gọi là ước tính Laplace (tăng số lượng của biến có 0 lên một giá trị nhỏ, thường là 1, trong tử số, để xác suất tổng thể không trở thành 0). Mặc định Naive Bayes sử dụng kỹ thuật này.\n",
    "\n",
    "## 5. Xây dựng Naive Bayes sử dụng sklearn\n",
    "\n",
    "Dùng `sklearn.naive_bayes`\n",
    "\n",
    "### Các bước thực hiện\n",
    "+ Chọn model sẽ sử dụng là **Naive_bayes**\n",
    "+ Tạo một tập dữ liệu feature và một tập target chứa các nhãn cho các thực thể\n",
    "+ Chia dữ liệu thành hai phần: train-test\n",
    "+ Áp dụng mô hình phù hợp: **GaussianNB, BernoulliNB** hoặc **MultinomialNB**\n",
    "+ Xây dựng model với training data\n",
    "+ Sử dụng model (fitted model) cho dữ liệu chưa biết (test data)\n",
    "+ Đánh giá độ chính xác\n",
    "+ Áp dụng model cho dự đoán dữ liệu mới"
   ]
  },
  {
   "cell_type": "markdown",
   "id": "f18480c3",
   "metadata": {},
   "source": [
    "# Ex: Spam or Ham?"
   ]
  },
  {
   "cell_type": "code",
   "execution_count": 1,
   "id": "63c6532d",
   "metadata": {},
   "outputs": [],
   "source": [
    "import numpy as np\n",
    "import pandas as pd\n",
    "import matplotlib.pyplot as plt\n",
    "import seaborn as sns\n",
    "\n",
    "import warnings\n",
    "warnings.filterwarnings(\"ignore\")\n",
    "\n",
    "from sklearn.naive_bayes import MultinomialNB"
   ]
  },
  {
   "cell_type": "code",
   "execution_count": 2,
   "id": "a74bf90b",
   "metadata": {},
   "outputs": [
    {
     "data": {
      "text/html": [
       "<div>\n",
       "<style scoped>\n",
       "    .dataframe tbody tr th:only-of-type {\n",
       "        vertical-align: middle;\n",
       "    }\n",
       "\n",
       "    .dataframe tbody tr th {\n",
       "        vertical-align: top;\n",
       "    }\n",
       "\n",
       "    .dataframe thead th {\n",
       "        text-align: right;\n",
       "    }\n",
       "</style>\n",
       "<table border=\"1\" class=\"dataframe\">\n",
       "  <thead>\n",
       "    <tr style=\"text-align: right;\">\n",
       "      <th></th>\n",
       "      <th>v1</th>\n",
       "      <th>v2</th>\n",
       "      <th>Unnamed: 2</th>\n",
       "      <th>Unnamed: 3</th>\n",
       "      <th>Unnamed: 4</th>\n",
       "    </tr>\n",
       "  </thead>\n",
       "  <tbody>\n",
       "    <tr>\n",
       "      <th>0</th>\n",
       "      <td>ham</td>\n",
       "      <td>Go until jurong point, crazy.. Available only ...</td>\n",
       "      <td>NaN</td>\n",
       "      <td>NaN</td>\n",
       "      <td>NaN</td>\n",
       "    </tr>\n",
       "    <tr>\n",
       "      <th>1</th>\n",
       "      <td>ham</td>\n",
       "      <td>Ok lar... Joking wif u oni...</td>\n",
       "      <td>NaN</td>\n",
       "      <td>NaN</td>\n",
       "      <td>NaN</td>\n",
       "    </tr>\n",
       "    <tr>\n",
       "      <th>2</th>\n",
       "      <td>spam</td>\n",
       "      <td>Free entry in 2 a wkly comp to win FA Cup fina...</td>\n",
       "      <td>NaN</td>\n",
       "      <td>NaN</td>\n",
       "      <td>NaN</td>\n",
       "    </tr>\n",
       "    <tr>\n",
       "      <th>3</th>\n",
       "      <td>ham</td>\n",
       "      <td>U dun say so early hor... U c already then say...</td>\n",
       "      <td>NaN</td>\n",
       "      <td>NaN</td>\n",
       "      <td>NaN</td>\n",
       "    </tr>\n",
       "    <tr>\n",
       "      <th>4</th>\n",
       "      <td>ham</td>\n",
       "      <td>Nah I don't think he goes to usf, he lives aro...</td>\n",
       "      <td>NaN</td>\n",
       "      <td>NaN</td>\n",
       "      <td>NaN</td>\n",
       "    </tr>\n",
       "  </tbody>\n",
       "</table>\n",
       "</div>"
      ],
      "text/plain": [
       "     v1                                                 v2 Unnamed: 2  \\\n",
       "0   ham  Go until jurong point, crazy.. Available only ...        NaN   \n",
       "1   ham                      Ok lar... Joking wif u oni...        NaN   \n",
       "2  spam  Free entry in 2 a wkly comp to win FA Cup fina...        NaN   \n",
       "3   ham  U dun say so early hor... U c already then say...        NaN   \n",
       "4   ham  Nah I don't think he goes to usf, he lives aro...        NaN   \n",
       "\n",
       "  Unnamed: 3 Unnamed: 4  \n",
       "0        NaN        NaN  \n",
       "1        NaN        NaN  \n",
       "2        NaN        NaN  \n",
       "3        NaN        NaN  \n",
       "4        NaN        NaN  "
      ]
     },
     "execution_count": 2,
     "metadata": {},
     "output_type": "execute_result"
    }
   ],
   "source": [
    "data = pd.read_csv('spam.csv', encoding='latin-1')\n",
    "data.head()"
   ]
  },
  {
   "cell_type": "code",
   "execution_count": 3,
   "id": "ec18ee09",
   "metadata": {},
   "outputs": [],
   "source": [
    "X = data.iloc[:,1]\n",
    "Y = data.iloc[:,0]"
   ]
  },
  {
   "cell_type": "code",
   "execution_count": 4,
   "id": "ed409f02",
   "metadata": {},
   "outputs": [],
   "source": [
    "from sklearn.feature_extraction.text import CountVectorizer, TfidfVectorizer\n",
    "# vectorizer = CountVectorizer(stop_words='english')\n",
    "vectorizer = CountVectorizer()\n",
    "# vectorizer = TfidfVectorizer(stop_words='english')\n",
    "# => Test với Tfidf nhưng score ko tốt bằng CountVectorizer()\n",
    "# Nếu phát hiện những từ không quan trọng nhưng xuất hiện nhiều thì phải bổ sung vào stopwords\n",
    "vectorizer.fit(X)\n",
    "X = vectorizer.transform(X)"
   ]
  },
  {
   "cell_type": "code",
   "execution_count": 5,
   "id": "37dbef0b",
   "metadata": {},
   "outputs": [
    {
     "name": "stdout",
     "output_type": "stream",
     "text": [
      "  (0, 1069)\t1\n",
      "  (0, 1303)\t1\n",
      "  (0, 1749)\t1\n",
      "  (0, 1751)\t1\n",
      "  (0, 2048)\t1\n",
      "  (0, 2327)\t1\n",
      "  (0, 3550)\t1\n",
      "  (0, 3594)\t1\n",
      "  (0, 3634)\t1\n",
      "  (0, 4087)\t1\n",
      "  (0, 4350)\t1\n",
      "  (0, 4476)\t1\n",
      "  (0, 5537)\t1\n",
      "  (0, 5920)\t1\n",
      "  (0, 7645)\t1\n",
      "  (0, 8030)\t1\n",
      "  (0, 8267)\t1\n",
      "  (0, 8489)\t1\n",
      "  (1, 4318)\t1\n",
      "  (1, 4512)\t1\n",
      "  (1, 5504)\t1\n",
      "  (1, 5533)\t1\n",
      "  (1, 8392)\t1\n",
      "  (2, 77)\t1\n",
      "  (2, 402)\t1\n",
      "  :\t:\n",
      "  (5570, 1778)\t1\n",
      "  (5570, 1786)\t1\n",
      "  (5570, 2592)\t1\n",
      "  (5570, 2892)\t1\n",
      "  (5570, 3308)\t1\n",
      "  (5570, 3358)\t1\n",
      "  (5570, 3470)\t1\n",
      "  (5570, 3687)\t1\n",
      "  (5570, 3781)\t1\n",
      "  (5570, 4087)\t1\n",
      "  (5570, 4161)\t1\n",
      "  (5570, 4218)\t1\n",
      "  (5570, 4615)\t1\n",
      "  (5570, 5334)\t1\n",
      "  (5570, 7039)\t1\n",
      "  (5570, 7049)\t1\n",
      "  (5570, 7627)\t1\n",
      "  (5570, 7756)\t1\n",
      "  (5570, 8065)\t1\n",
      "  (5570, 8313)\t1\n",
      "  (5571, 4225)\t2\n",
      "  (5571, 5244)\t1\n",
      "  (5571, 6505)\t1\n",
      "  (5571, 7756)\t1\n",
      "  (5571, 7885)\t1\n"
     ]
    }
   ],
   "source": [
    "print(X)\n",
    "# Lưu trữ dạng vị trí, ví dụ: Row 0, Column 1069 has 1 value"
   ]
  },
  {
   "cell_type": "code",
   "execution_count": 6,
   "id": "f2eea0f4",
   "metadata": {},
   "outputs": [
    {
     "data": {
      "text/plain": [
       "array([[0, 0, 0, ..., 0, 0, 0],\n",
       "       [0, 0, 0, ..., 0, 0, 0],\n",
       "       [0, 0, 0, ..., 0, 0, 0],\n",
       "       ...,\n",
       "       [0, 0, 0, ..., 0, 0, 0],\n",
       "       [0, 0, 0, ..., 0, 0, 0],\n",
       "       [0, 0, 0, ..., 0, 0, 0]])"
      ]
     },
     "execution_count": 6,
     "metadata": {},
     "output_type": "execute_result"
    }
   ],
   "source": [
    "X.toarray()"
   ]
  },
  {
   "cell_type": "code",
   "execution_count": 7,
   "id": "3285192c",
   "metadata": {},
   "outputs": [
    {
     "name": "stdout",
     "output_type": "stream",
     "text": [
      "(5572, 8672)\n"
     ]
    }
   ],
   "source": [
    "print(X.toarray().shape)"
   ]
  },
  {
   "cell_type": "code",
   "execution_count": 8,
   "id": "e0401d98",
   "metadata": {},
   "outputs": [
    {
     "name": "stdout",
     "output_type": "stream",
     "text": [
      "(5572,)\n"
     ]
    }
   ],
   "source": [
    "Y = Y.replace('ham',0)\n",
    "Y = Y.replace('spam',1)\n",
    "print(Y.shape)"
   ]
  },
  {
   "cell_type": "markdown",
   "id": "54633a5e",
   "metadata": {},
   "source": [
    "**Chia dữ liệu và tạo model**"
   ]
  },
  {
   "cell_type": "code",
   "execution_count": 9,
   "id": "18d76517",
   "metadata": {},
   "outputs": [],
   "source": [
    "from sklearn.model_selection import train_test_split\n",
    "X_train, X_test, Y_train, Y_test = train_test_split(X, Y, test_size=0.2, random_state=42)"
   ]
  },
  {
   "cell_type": "code",
   "execution_count": 10,
   "id": "d56d7f35",
   "metadata": {},
   "outputs": [
    {
     "data": {
      "text/html": [
       "<style>#sk-container-id-1 {color: black;background-color: white;}#sk-container-id-1 pre{padding: 0;}#sk-container-id-1 div.sk-toggleable {background-color: white;}#sk-container-id-1 label.sk-toggleable__label {cursor: pointer;display: block;width: 100%;margin-bottom: 0;padding: 0.3em;box-sizing: border-box;text-align: center;}#sk-container-id-1 label.sk-toggleable__label-arrow:before {content: \"▸\";float: left;margin-right: 0.25em;color: #696969;}#sk-container-id-1 label.sk-toggleable__label-arrow:hover:before {color: black;}#sk-container-id-1 div.sk-estimator:hover label.sk-toggleable__label-arrow:before {color: black;}#sk-container-id-1 div.sk-toggleable__content {max-height: 0;max-width: 0;overflow: hidden;text-align: left;background-color: #f0f8ff;}#sk-container-id-1 div.sk-toggleable__content pre {margin: 0.2em;color: black;border-radius: 0.25em;background-color: #f0f8ff;}#sk-container-id-1 input.sk-toggleable__control:checked~div.sk-toggleable__content {max-height: 200px;max-width: 100%;overflow: auto;}#sk-container-id-1 input.sk-toggleable__control:checked~label.sk-toggleable__label-arrow:before {content: \"▾\";}#sk-container-id-1 div.sk-estimator input.sk-toggleable__control:checked~label.sk-toggleable__label {background-color: #d4ebff;}#sk-container-id-1 div.sk-label input.sk-toggleable__control:checked~label.sk-toggleable__label {background-color: #d4ebff;}#sk-container-id-1 input.sk-hidden--visually {border: 0;clip: rect(1px 1px 1px 1px);clip: rect(1px, 1px, 1px, 1px);height: 1px;margin: -1px;overflow: hidden;padding: 0;position: absolute;width: 1px;}#sk-container-id-1 div.sk-estimator {font-family: monospace;background-color: #f0f8ff;border: 1px dotted black;border-radius: 0.25em;box-sizing: border-box;margin-bottom: 0.5em;}#sk-container-id-1 div.sk-estimator:hover {background-color: #d4ebff;}#sk-container-id-1 div.sk-parallel-item::after {content: \"\";width: 100%;border-bottom: 1px solid gray;flex-grow: 1;}#sk-container-id-1 div.sk-label:hover label.sk-toggleable__label {background-color: #d4ebff;}#sk-container-id-1 div.sk-serial::before {content: \"\";position: absolute;border-left: 1px solid gray;box-sizing: border-box;top: 0;bottom: 0;left: 50%;z-index: 0;}#sk-container-id-1 div.sk-serial {display: flex;flex-direction: column;align-items: center;background-color: white;padding-right: 0.2em;padding-left: 0.2em;position: relative;}#sk-container-id-1 div.sk-item {position: relative;z-index: 1;}#sk-container-id-1 div.sk-parallel {display: flex;align-items: stretch;justify-content: center;background-color: white;position: relative;}#sk-container-id-1 div.sk-item::before, #sk-container-id-1 div.sk-parallel-item::before {content: \"\";position: absolute;border-left: 1px solid gray;box-sizing: border-box;top: 0;bottom: 0;left: 50%;z-index: -1;}#sk-container-id-1 div.sk-parallel-item {display: flex;flex-direction: column;z-index: 1;position: relative;background-color: white;}#sk-container-id-1 div.sk-parallel-item:first-child::after {align-self: flex-end;width: 50%;}#sk-container-id-1 div.sk-parallel-item:last-child::after {align-self: flex-start;width: 50%;}#sk-container-id-1 div.sk-parallel-item:only-child::after {width: 0;}#sk-container-id-1 div.sk-dashed-wrapped {border: 1px dashed gray;margin: 0 0.4em 0.5em 0.4em;box-sizing: border-box;padding-bottom: 0.4em;background-color: white;}#sk-container-id-1 div.sk-label label {font-family: monospace;font-weight: bold;display: inline-block;line-height: 1.2em;}#sk-container-id-1 div.sk-label-container {text-align: center;}#sk-container-id-1 div.sk-container {/* jupyter's `normalize.less` sets `[hidden] { display: none; }` but bootstrap.min.css set `[hidden] { display: none !important; }` so we also need the `!important` here to be able to override the default hidden behavior on the sphinx rendered scikit-learn.org. See: https://github.com/scikit-learn/scikit-learn/issues/21755 */display: inline-block !important;position: relative;}#sk-container-id-1 div.sk-text-repr-fallback {display: none;}</style><div id=\"sk-container-id-1\" class=\"sk-top-container\"><div class=\"sk-text-repr-fallback\"><pre>MultinomialNB()</pre><b>In a Jupyter environment, please rerun this cell to show the HTML representation or trust the notebook. <br />On GitHub, the HTML representation is unable to render, please try loading this page with nbviewer.org.</b></div><div class=\"sk-container\" hidden><div class=\"sk-item\"><div class=\"sk-estimator sk-toggleable\"><input class=\"sk-toggleable__control sk-hidden--visually\" id=\"sk-estimator-id-1\" type=\"checkbox\" checked><label for=\"sk-estimator-id-1\" class=\"sk-toggleable__label sk-toggleable__label-arrow\">MultinomialNB</label><div class=\"sk-toggleable__content\"><pre>MultinomialNB()</pre></div></div></div></div></div>"
      ],
      "text/plain": [
       "MultinomialNB()"
      ]
     },
     "execution_count": 10,
     "metadata": {},
     "output_type": "execute_result"
    }
   ],
   "source": [
    "from sklearn.naive_bayes import MultinomialNB\n",
    "# Do X là ma trận thưa thớt nên dùng MultinomialNB\n",
    "# Tuy nhiên nên thử nhiều model khác nhau\n",
    "model = MultinomialNB()\n",
    "model.fit(X_train, Y_train)"
   ]
  },
  {
   "cell_type": "markdown",
   "id": "197a1e96",
   "metadata": {},
   "source": [
    "**Đánh giá model**"
   ]
  },
  {
   "cell_type": "markdown",
   "id": "31e2ab98",
   "metadata": {},
   "source": [
    "### Trên tập Train"
   ]
  },
  {
   "cell_type": "code",
   "execution_count": 11,
   "id": "dc172c19",
   "metadata": {},
   "outputs": [
    {
     "data": {
      "text/plain": [
       "0.9943908458604442"
      ]
     },
     "execution_count": 11,
     "metadata": {},
     "output_type": "execute_result"
    }
   ],
   "source": [
    "# Score của Train\n",
    "model.score(X_train, Y_train)"
   ]
  },
  {
   "cell_type": "code",
   "execution_count": 12,
   "id": "a0cecc6d",
   "metadata": {},
   "outputs": [],
   "source": [
    "from sklearn.metrics import classification_report,confusion_matrix\n",
    "from sklearn.metrics import precision_score, recall_score, f1_score\n",
    "from sklearn.metrics import accuracy_score\n",
    "\n",
    "def Static_score_model_class (Y, Y_pred, aver=None):\n",
    "    accuracy = accuracy_score (Y, Y_pred)\n",
    "    precision = precision_score (Y, Y_pred, average=aver)\n",
    "    recall = recall_score (Y, Y_pred, average=aver)\n",
    "    f1 = f1_score (Y, Y_pred, average=aver)\n",
    "    return accuracy, recall, precision, f1"
   ]
  },
  {
   "cell_type": "code",
   "execution_count": 13,
   "id": "cd751dc9",
   "metadata": {},
   "outputs": [
    {
     "name": "stdout",
     "output_type": "stream",
     "text": [
      "Score là: 0.9944\n",
      "Recall là: 0.9715\n",
      "Precision là: 0.9864\n",
      "F1 là: 0.9789\n"
     ]
    }
   ],
   "source": [
    "score, recall, prec, f1 = Static_score_model_class(Y_train,\n",
    "                                                  model.predict(X_train),\n",
    "                                                  aver='binary')\n",
    "print('Score là: %0.4f' % score)\n",
    "print('Recall là: %0.4f' % recall)\n",
    "print('Precision là: %0.4f' % prec)\n",
    "print('F1 là: %0.4f' % f1)"
   ]
  },
  {
   "cell_type": "markdown",
   "id": "bd92fff1",
   "metadata": {},
   "source": [
    "### Trên tập Test"
   ]
  },
  {
   "cell_type": "code",
   "execution_count": 14,
   "id": "50ea57cc",
   "metadata": {},
   "outputs": [
    {
     "name": "stdout",
     "output_type": "stream",
     "text": [
      "Score là: 0.9785\n",
      "Recall là: 0.9267\n",
      "Precision là: 0.9145\n",
      "F1 là: 0.9205\n"
     ]
    }
   ],
   "source": [
    "score, recall, prec, f1 = Static_score_model_class(Y_test,\n",
    "                                                  model.predict(X_test),\n",
    "                                                  aver='binary')\n",
    "print('Score là: %0.4f' % score)\n",
    "print('Recall là: %0.4f' % recall)\n",
    "print('Precision là: %0.4f' % prec)\n",
    "print('F1 là: %0.4f' % f1)"
   ]
  },
  {
   "cell_type": "markdown",
   "id": "4d445162",
   "metadata": {},
   "source": [
    "### Trực quan kết quả"
   ]
  },
  {
   "cell_type": "code",
   "execution_count": 15,
   "id": "2d1ec592",
   "metadata": {},
   "outputs": [],
   "source": [
    "def Visualize_confusion_matrix(Y, Y_pred):\n",
    "    cm = confusion_matrix(Y, Y_pred)\n",
    "    cm_df = pd.DataFrame(cm)\n",
    "    plt.figure(figsize = (6,5))\n",
    "    sns.heatmap(cm_df, annot=True,fmt='g',cmap='Blues')\n",
    "    plt.title('Accuracy:{0:.3f}'.format(accuracy_score(Y,Y_pred)))\n",
    "    plt.ylabel('True Values')\n",
    "    plt.xlabel('Predicted Values')\n",
    "    plt.show()\n",
    "    return"
   ]
  },
  {
   "cell_type": "code",
   "execution_count": 16,
   "id": "ddd8bd81",
   "metadata": {},
   "outputs": [
    {
     "data": {
      "image/png": "[encoded data removed]",
      "text/plain": [
       "<Figure size 600x500 with 2 Axes>"
      ]
     },
     "metadata": {},
     "output_type": "display_data"
    }
   ],
   "source": [
    "Visualize_confusion_matrix(Y_test, model.predict(X_test))"
   ]
  },
  {
   "cell_type": "code",
   "execution_count": 17,
   "id": "bdb14eae",
   "metadata": {},
   "outputs": [],
   "source": [
    "from sklearn.metrics import roc_curve\n",
    "from sklearn.metrics import roc_auc_score\n",
    "\n",
    "def ROC_AUC(Y, Y_prob):\n",
    "    # caculate roc curves\n",
    "    fpr, tpr, threshold = roc_curve(Y, Y_prob) # cho chay cac theshold khac nhau va co 1 tap fpr, tpr\n",
    "    # caculate scores\n",
    "    model_auc = roc_auc_score(Y, Y_prob)\n",
    "    # plot roc curve for the model\n",
    "    plt.plot([0,1], [0,1], linestyle='--', label='No Skill')\n",
    "    plt.plot(fpr, tpr, marker='.', label='Model - AUC=%.3f' % (model_auc))\n",
    "    # show axis labels and the legend\n",
    "    plt.xlabel('False Positive Rate')\n",
    "    plt.ylabel('True Positive Rate')\n",
    "    plt.legend()\n",
    "    plt.show(block=False)\n",
    "    return"
   ]
  },
  {
   "cell_type": "code",
   "execution_count": 18,
   "id": "67f4c1e5",
   "metadata": {},
   "outputs": [],
   "source": [
    "from sklearn.metrics import precision_recall_curve\n",
    "from sklearn.metrics import auc\n",
    "\n",
    "def Precision_Recall_AUC(Y, Y_prob):\n",
    "    # caculate roc curves\n",
    "    precision, recall, threshold = precision_recall_curve(Y, Y_prob) \n",
    "    # cho chạy các theshold khac nhau va co 1 tap fpr, tpr\n",
    "    # caculate score\n",
    "    model_auc = auc(recall, precision)\n",
    "    # plot roc curve for the model\n",
    "    ns = len(Y[Y==1]) / len(Y)\n",
    "    plt.plot([0,1], [ns,ns], linestyle='--', label='No Skill')\n",
    "    plt.plot(recall, precision, marker='.', label='Model - AUC=%.3f' % (model_auc))\n",
    "    \n",
    "    # show axis labels and the legend\n",
    "    plt.xlabel('Recall')\n",
    "    plt.ylabel('Precision')\n",
    "    plt.legend()\n",
    "    plt.show\n",
    "    return"
   ]
  },
  {
   "cell_type": "code",
   "execution_count": 19,
   "id": "2963f7eb",
   "metadata": {},
   "outputs": [
    {
     "data": {
      "image/png": "[encoded data removed]",
      "text/plain": [
       "<Figure size 640x480 with 1 Axes>"
      ]
     },
     "metadata": {},
     "output_type": "display_data"
    }
   ],
   "source": [
    "ROC_AUC(Y_test, model.predict_proba (X_test)[:,1])"
   ]
  },
  {
   "cell_type": "code",
   "execution_count": 20,
   "id": "c6721564",
   "metadata": {},
   "outputs": [
    {
     "data": {
      "image/png": "[encoded data removed]",
      "text/plain": [
       "<Figure size 640x480 with 1 Axes>"
      ]
     },
     "metadata": {},
     "output_type": "display_data"
    }
   ],
   "source": [
    "Precision_Recall_AUC(Y_test, model.predict_proba(X_test)[:,1])"
   ]
  },
  {
   "cell_type": "markdown",
   "id": "285df8d7",
   "metadata": {},
   "source": [
    "### Tìm threshold để precision = 98.5%"
   ]
  },
  {
   "cell_type": "code",
   "execution_count": 21,
   "id": "cca58ded",
   "metadata": {},
   "outputs": [],
   "source": [
    "def Threshold_PrecisionRecall(Y, Y_prob):\n",
    "    # calucate roc curves\n",
    "    precision, recall, threshold = precision_recall_curve(Y, Y_prob)\n",
    "    scores = (2*precision*recall)/(precision+recall)\n",
    "    pos = np.argmax(scores)\n",
    "    return threshold[pos], scores[pos]"
   ]
  },
  {
   "cell_type": "code",
   "execution_count": 22,
   "id": "1f1f69b3",
   "metadata": {},
   "outputs": [
    {
     "data": {
      "text/plain": [
       "(0.959642086451972, 0.9403508771929824)"
      ]
     },
     "execution_count": 22,
     "metadata": {},
     "output_type": "execute_result"
    }
   ],
   "source": [
    "Threshold_PrecisionRecall(Y_test, model.predict_proba(X_test)[:,1])"
   ]
  },
  {
   "cell_type": "code",
   "execution_count": 23,
   "id": "736c1709",
   "metadata": {},
   "outputs": [],
   "source": [
    "def Threshold_ROC(Y, Y_prob):\n",
    "    # caculate roc curves\n",
    "    fpr, tpr, threshold = roc_curve(Y, Y_prob)\n",
    "    scores = tpr-fpr\n",
    "    pos = np.argmax(scores)\n",
    "    return threshold[pos], scores[pos]"
   ]
  },
  {
   "cell_type": "code",
   "execution_count": 24,
   "id": "bc5f8ddf",
   "metadata": {},
   "outputs": [
    {
     "data": {
      "text/plain": [
       "(0.21776596104243412, 0.9140932642487046)"
      ]
     },
     "execution_count": 24,
     "metadata": {},
     "output_type": "execute_result"
    }
   ],
   "source": [
    "Threshold_ROC(Y_test, model.predict_proba(X_test)[:,1])"
   ]
  },
  {
   "cell_type": "code",
   "execution_count": 25,
   "id": "ca79bea4",
   "metadata": {},
   "outputs": [
    {
     "data": {
      "text/plain": [
       "array([ True, False,  True, ..., False, False,  True])"
      ]
     },
     "execution_count": 25,
     "metadata": {},
     "output_type": "execute_result"
    }
   ],
   "source": [
    "# Threshold = 0.217765\n",
    "model.predict_proba(X_test)[:,1] > 0.217765"
   ]
  },
  {
   "cell_type": "code",
   "execution_count": 26,
   "id": "a5e26628",
   "metadata": {},
   "outputs": [
    {
     "data": {
      "text/plain": [
       "array([0.23715415, 0.23734177, 0.23752969, ..., 0.61111111, 0.59813084,\n",
       "       0.        ])"
      ]
     },
     "execution_count": 26,
     "metadata": {},
     "output_type": "execute_result"
    }
   ],
   "source": [
    "precision, recall, threshold = precision_recall_curve(Y_test, model.predict_proba(X_test)[:,1])\n",
    "scores = (2*precision*recall)/(precision+recall)\n",
    "scores"
   ]
  },
  {
   "cell_type": "code",
   "execution_count": 27,
   "id": "47b5942f",
   "metadata": {},
   "outputs": [
    {
     "data": {
      "text/plain": [
       "0.9403508771929824"
      ]
     },
     "execution_count": 27,
     "metadata": {},
     "output_type": "execute_result"
    }
   ],
   "source": [
    "scores.max()"
   ]
  },
  {
   "cell_type": "markdown",
   "id": "38e488ae",
   "metadata": {},
   "source": [
    "**Ghi model**\n",
    "\n",
    "Khi build xong model và đánh giá model là tốt, thì để người dùng cuối sử dụng:\n",
    "+ Cách 1: cần đưa cho họ model và vectorizer\n",
    "+ Cách 2: lưu quá trình xử lý vào pipline  \n",
    "=> **model_total = pipeline**"
   ]
  },
  {
   "cell_type": "code",
   "execution_count": 28,
   "id": "5c9d9df4",
   "metadata": {},
   "outputs": [],
   "source": [
    "# Cách 1: lưu model và vectorizer\n",
    "import pickle\n",
    "def Save_Object(obj, filename):\n",
    "    with open(filename, 'wb') as file:\n",
    "        pickle.dump(obj, file)\n",
    "    return\n",
    "\n",
    "def Load_Object(filename):\n",
    "    with open(filename, 'rb') as file:\n",
    "        obj = pickle.load(file)\n",
    "    return obj"
   ]
  },
  {
   "cell_type": "code",
   "execution_count": 29,
   "id": "53739c9e",
   "metadata": {},
   "outputs": [],
   "source": [
    "Save_Object(model, 'spam_filter.pkl')\n",
    "Save_Object(vectorizer, 'vectorizer.pkl')"
   ]
  },
  {
   "cell_type": "code",
   "execution_count": 30,
   "id": "5461a915",
   "metadata": {},
   "outputs": [],
   "source": [
    "# Đọc model và sử dụng (áp dụng thực tế)\n",
    "my_model = Load_Object('spam_filter.pkl')\n",
    "my_vectorizer = Load_Object('vectorizer.pkl')"
   ]
  },
  {
   "cell_type": "markdown",
   "id": "1f096468",
   "metadata": {},
   "source": [
    "**Sau khi ghi model, ta thử với trường hợp thực tế:**"
   ]
  },
  {
   "cell_type": "code",
   "execution_count": 31,
   "id": "d29fe6ac",
   "metadata": {},
   "outputs": [
    {
     "data": {
      "text/plain": [
       "array([0, 1])"
      ]
     },
     "execution_count": 31,
     "metadata": {},
     "output_type": "execute_result"
    }
   ],
   "source": [
    "X_new = np.array([\n",
    "                'Dear class. I will stop class early today.',\n",
    "                'URGENT! We are trying to contact you. Today is the last day of sale. Discount up to 50%'\n",
    "                ])\n",
    "X_new = my_vectorizer.transform(X_new)\n",
    "Y_pred_new = my_model.predict(X_new)\n",
    "Y_pred_new"
   ]
  },
  {
   "cell_type": "markdown",
   "id": "0d0b2461",
   "metadata": {},
   "source": [
    "**Kết quả:**\n",
    "+ Câu **'Dear class. I will stop class early today.'** => 0 là Ham (hay không phải Spam)\n",
    "+ Câu **'URGENT! We are trying to contact you. Today is the last day of sale. Discount up to 50%'** => 1(là Spam)"
   ]
  },
  {
   "cell_type": "code",
   "execution_count": null,
   "id": "dfb6f732",
   "metadata": {},
   "outputs": [],
   "source": []
  }
 ],
 "metadata": {
  "kernelspec": {
   "display_name": "Python 3 (ipykernel)",
   "language": "python",
   "name": "python3"
  },
  "language_info": {
   "codemirror_mode": {
    "name": "ipython",
    "version": 3
   },
   "file_extension": ".py",
   "mimetype": "text/x-python",
   "name": "python",
   "nbconvert_exporter": "python",
   "pygments_lexer": "ipython3",
   "version": "3.9.15"
  }
 },
 "nbformat": 4,
 "nbformat_minor": 5
}
